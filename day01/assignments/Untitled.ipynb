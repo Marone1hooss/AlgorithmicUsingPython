{
 "cells": [
  {
   "cell_type": "code",
   "execution_count": null,
   "metadata": {},
   "outputs": [],
   "source": [
    "import random\n",
    "p=int(input(\"pricision:\"))\n",
    "c=0\n",
    "for i in range(p):\n",
    "    x=(random.randint(0,100))/100\n",
    "    y=(random.randint(0,100))/100\n",
    "    \n",
    "    d=pow(x**2+y**2,0.5)\n",
    "   \n",
    "    if d <=1:\n",
    "        #print(d)\n",
    "        c=c+1\n",
    "print(c)\n",
    "pi=p/c\n",
    "print(4*pi)\n",
    "    \n",
    "    \n",
    "    "
   ]
  },
  {
   "cell_type": "code",
   "execution_count": 38,
   "metadata": {},
   "outputs": [
    {
     "name": "stdout",
     "output_type": "stream",
     "text": [
      "pricision:1011010\n",
      "793498\n",
      "3.1394269097239396\n"
     ]
    }
   ],
   "source": [
    "import random\n",
    "p=int(input(\"pricision:\"))\n",
    "c=0\n",
    "for i in range(p):\n",
    "    x=random.random()\n",
    "    y=random.random()\n",
    "    \n",
    "    d=pow(x*x+y*y,0.5)\n",
    "    if d <= 1:\n",
    "        #print(d)\n",
    "        c=c+1\n",
    "print(c)\n",
    "pi=c/p\n",
    "print(4*pi)"
   ]
  },
  {
   "cell_type": "code",
   "execution_count": null,
   "metadata": {},
   "outputs": [],
   "source": []
  },
  {
   "cell_type": "code",
   "execution_count": null,
   "metadata": {},
   "outputs": [],
   "source": []
  }
 ],
 "metadata": {
  "kernelspec": {
   "display_name": "Python 3",
   "language": "python",
   "name": "python3"
  }
 },
 "nbformat": 4,
 "nbformat_minor": 2
}
